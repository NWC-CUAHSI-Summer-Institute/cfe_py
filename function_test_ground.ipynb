{
 "cells": [
  {
   "attachments": {},
   "cell_type": "markdown",
   "metadata": {},
   "source": [
    "# GIUH test"
   ]
  },
  {
   "cell_type": "code",
   "execution_count": 1,
   "metadata": {},
   "outputs": [],
   "source": [
    "import torch"
   ]
  },
  {
   "cell_type": "code",
   "execution_count": 21,
   "metadata": {},
   "outputs": [],
   "source": [
    "num_giuh_ordinates = 5\n",
    "giuh_ordinates = torch.tensor([0.1, 0.2, 0.4, 0.2, 0.1])\n",
    "runoff_queue_m_per_timestep = torch.zeros(len(giuh_ordinates)+1)\n",
    "surface_runoff_depth_m = torch.tensor(2.0)"
   ]
  },
  {
   "cell_type": "code",
   "execution_count": 22,
   "metadata": {},
   "outputs": [
    {
     "data": {
      "text/plain": [
       "tensor([0.4000, 0.8000, 0.4000, 0.2000, 0.0000, 0.0000])"
      ]
     },
     "execution_count": 22,
     "metadata": {},
     "output_type": "execute_result"
    }
   ],
   "source": [
    "N = num_giuh_ordinates\n",
    "\n",
    "runoff_queue_m_per_timestep[N] = torch.tensor(0.0, dtype=torch.float)\n",
    "\n",
    "for i in range(num_giuh_ordinates): \n",
    "\n",
    "    runoff_queue_m_per_timestep[i] = runoff_queue_m_per_timestep[i] + giuh_ordinates[i] * surface_runoff_depth_m\n",
    "    \n",
    "flux_giuh_runoff_m = runoff_queue_m_per_timestep[0]\n",
    "\n",
    "# __________________________________________________________________\n",
    "# shift all the entries in preperation for the next timestep\n",
    "\n",
    "for i in range(num_giuh_ordinates): \n",
    "    runoff_queue_i_minus_1 = runoff_queue_m_per_timestep[i+1]\n",
    "    runoff_queue_m_per_timestep[i] = runoff_queue_i_minus_1\n",
    "    \n",
    "runoff_queue_m_per_timestep"
   ]
  },
  {
   "cell_type": "code",
   "execution_count": 23,
   "metadata": {},
   "outputs": [
    {
     "data": {
      "text/plain": [
       "tensor(1.8000)"
      ]
     },
     "execution_count": 23,
     "metadata": {},
     "output_type": "execute_result"
    }
   ],
   "source": [
    "torch_sum = torch.sum(runoff_queue_m_per_timestep)\n",
    "torch_sum"
   ]
  },
  {
   "cell_type": "code",
   "execution_count": 25,
   "metadata": {},
   "outputs": [],
   "source": [
    "import numpy as np\n",
    "num_giuh_ordinates = 5\n",
    "giuh_ordinates = [0.1, 0.2, 0.4, 0.2, 0.1]\n",
    "runoff_queue_m_per_timestep = np.zeros(len(giuh_ordinates)+1)\n",
    "surface_runoff_depth_m = 2"
   ]
  },
  {
   "cell_type": "code",
   "execution_count": 26,
   "metadata": {},
   "outputs": [
    {
     "data": {
      "text/plain": [
       "array([0.4, 0.8, 0.4, 0.2, 0. , 0. ])"
      ]
     },
     "execution_count": 26,
     "metadata": {},
     "output_type": "execute_result"
    }
   ],
   "source": [
    "N = num_giuh_ordinates\n",
    "\n",
    "runoff_queue_m_per_timestep[N] = 0.0\n",
    "\n",
    "\n",
    "for i in range(num_giuh_ordinates): \n",
    "\n",
    "    runoff_queue_m_per_timestep[i] += giuh_ordinates[i] * surface_runoff_depth_m\n",
    "    \n",
    "flux_giuh_runoff_m = runoff_queue_m_per_timestep[0]\n",
    "\n",
    "# __________________________________________________________________\n",
    "# shift all the entries in preperation for the next timestep\n",
    "\n",
    "for i in range(num_giuh_ordinates): \n",
    "    runoff_queue_m_per_timestep[i] = runoff_queue_m_per_timestep[i+1]\n",
    "\n",
    "runoff_queue_m_per_timestep"
   ]
  },
  {
   "cell_type": "code",
   "execution_count": 16,
   "metadata": {},
   "outputs": [
    {
     "data": {
      "text/plain": [
       "1.8"
      ]
     },
     "execution_count": 16,
     "metadata": {},
     "output_type": "execute_result"
    }
   ],
   "source": [
    "np_sum = sum(runoff_queue_m_per_timestep)\n",
    "np_sum"
   ]
  },
  {
   "cell_type": "code",
   "execution_count": 24,
   "metadata": {},
   "outputs": [
    {
     "data": {
      "text/plain": [
       "tensor(-1.1921e-07)"
      ]
     },
     "execution_count": 24,
     "metadata": {},
     "output_type": "execute_result"
    }
   ],
   "source": [
    "np_sum - torch_sum"
   ]
  },
  {
   "attachments": {},
   "cell_type": "markdown",
   "metadata": {},
   "source": [
    "# Test soil ODE"
   ]
  },
  {
   "attachments": {},
   "cell_type": "markdown",
   "metadata": {},
   "source": [
    "https://pytorch.org/tutorials/beginner/basics/tensorqs_tutorial.html  \n",
    "https://github.com/rtqichen/torchdiffeq/blob/master/examples/cnf.py"
   ]
  },
  {
   "cell_type": "code",
   "execution_count": 1,
   "metadata": {},
   "outputs": [],
   "source": [
    "import torch\n",
    "import numpy as np\n",
    "import argparse\n",
    "import matplotlib.pyplot as plt\n",
    "\n",
    "import torch\n",
    "import torch.nn as nn\n",
    "\n",
    "from torchdiffeq import odeint, odeint_adjoint\n",
    "from torchdiffeq import odeint_event\n",
    "\n",
    "torch.set_default_dtype(torch.float64)"
   ]
  },
  {
   "cell_type": "code",
   "execution_count": 2,
   "metadata": {},
   "outputs": [],
   "source": [
    "class soil_moisture_flux_ode(nn.Module):\n",
    "    \n",
    "    def __init__(self, cfe_state=None, reservoir=None):\n",
    "        super().__init__()\n",
    "        self.cfe_state = cfe_state\n",
    "        self.reservoir = reservoir\n",
    "\n",
    "    def forward(self, t, states):\n",
    "        \n",
    "        S = states[0]\n",
    "            \n",
    "        storage_above_threshold_m = S - reservoir['storage_threshold_primary_m']\n",
    "        storage_diff = reservoir['storage_max_m'] - reservoir['storage_threshold_primary_m']\n",
    "        storage_ratio = torch.minimum(storage_above_threshold_m / storage_diff, torch.tensor(1.0))\n",
    "\n",
    "        perc_lat_switch = torch.multiply(S - reservoir['storage_threshold_primary_m'] > 0, 1)\n",
    "        ET_switch = torch.multiply(S - reservoir['wilting_point_m'] > 0, 1)\n",
    "\n",
    "        storage_above_threshold_m_paw = S - reservoir['wilting_point_m']\n",
    "        storage_diff_paw = reservoir['storage_threshold_primary_m'] - reservoir['wilting_point_m']\n",
    "        storage_ratio_paw = torch.minimum(storage_above_threshold_m_paw / storage_diff_paw, torch.tensor(1.0)) # Equation 11 (Ogden's document)\n",
    "        dS_dt = cfe_state['infiltration_depth_m'] - torch.tensor(1.0) * perc_lat_switch * (reservoir['coeff_primary'] + reservoir['coeff_secondary']) * storage_ratio - ET_switch * cfe_state['reduced_potential_et_m_per_timestep'] * storage_ratio_paw\n",
    "        \n",
    "        return (dS_dt)"
   ]
  },
  {
   "cell_type": "code",
   "execution_count": 3,
   "metadata": {},
   "outputs": [],
   "source": [
    "\n",
    "# Initialization\n",
    "y0 = torch.tensor([0.3])\n",
    "t = torch.tensor([0, 0.05, 0.15, 0.3, 0.6, 1.0]) # ODE time descritization of one time step\n",
    "cfe_state = {}\n",
    "cfe_state['infiltration_depth_m'] = torch.tensor([0.1])\n",
    "cfe_state['reduced_potential_et_m_per_timestep'] = torch.tensor([0.003])\n",
    "reservoir = {}\n",
    "reservoir['storage_threshold_primary_m'] = torch.tensor([0.2])\n",
    "reservoir['storage_max_m'] = torch.tensor([0.4])\n",
    "reservoir['wilting_point_m'] = torch.tensor([0.1])\n",
    "reservoir['coeff_primary'] = torch.tensor([0.4])\n",
    "reservoir['coeff_secondary'] = torch.tensor([0.4])\n",
    "\n",
    "# Pass parameters beforehand\n",
    "device = 'cpu'\n",
    "func = soil_moisture_flux_ode(cfe_state=cfe_state, reservoir=reservoir).to(device)\n",
    "\n",
    "# Solve and ODE\n",
    "sol = odeint(\n",
    "    func,\n",
    "    y0,\n",
    "    t,\n",
    "    atol=1e-5,\n",
    "    rtol=1e-5,\n",
    "    # adjoint_params=()\n",
    ")\n",
    "\n"
   ]
  },
  {
   "cell_type": "code",
   "execution_count": 85,
   "metadata": {},
   "outputs": [
    {
     "data": {
      "text/plain": [
       "torch.Size([6, 1])"
      ]
     },
     "execution_count": 85,
     "metadata": {},
     "output_type": "execute_result"
    }
   ],
   "source": [
    "sol.shape"
   ]
  },
  {
   "cell_type": "code",
   "execution_count": 93,
   "metadata": {},
   "outputs": [
    {
     "data": {
      "text/plain": [
       "tensor([0.3000, 0.2864, 0.2661, 0.2474, 0.2316, 0.2262])"
      ]
     },
     "execution_count": 93,
     "metadata": {},
     "output_type": "execute_result"
    }
   ],
   "source": [
    "# Finalize results\n",
    "ts_concat = t\n",
    "ys_concat = sol.squeeze()\n",
    "t_proportion = torch.diff(ts_concat, dim=0) # ts_concat[1:] - ts_concat[:-1]\n",
    "ys_concat"
   ]
  },
  {
   "cell_type": "code",
   "execution_count": 112,
   "metadata": {},
   "outputs": [
    {
     "data": {
      "text/plain": [
       "tensor([0.2932, 0.2762, 0.2567, 0.2395, 0.2289])"
      ]
     },
     "execution_count": 112,
     "metadata": {},
     "output_type": "execute_result"
    }
   ],
   "source": [
    "import torch.nn.functional as F\n",
    "\n",
    "# Create the kernel tensor with torch.ones\n",
    "kernel = torch.ones(2)\n",
    "\n",
    "# Get the moving average y values in between the time intervals\n",
    "convolved = F.conv1d(ys_concat.unsqueeze(0).unsqueeze(0), kernel.unsqueeze(0).unsqueeze(0), padding=1).squeeze()\n",
    "# Divide by 2 to match np.convolve\n",
    "ys_avg_ = convolved / 2\n",
    "ys_avg = ys_avg_[1:-1]\n",
    "ys_avg\n",
    "# Original numpy method\n",
    "# ys_avg = np.convolve(ys_concat, np.ones(2), 'valid') / 2"
   ]
  },
  {
   "cell_type": "code",
   "execution_count": 111,
   "metadata": {},
   "outputs": [
    {
     "name": "stdout",
     "output_type": "stream",
     "text": [
      "primary_flux_m: 0.08548009648611235\n",
      "secondary_flux_m: 0.08548009648611235\n",
      "actual_et_from_soil_m_per_timestep: 0.0028869109589852553\n",
      "reservoir[\"storage_m\"]: 0.22615289606879002\n"
     ]
    }
   ],
   "source": [
    "import math\n",
    "lateral_flux = torch.zeros(ys_avg.shape)\n",
    "perc_lat_switch = ys_avg - reservoir['storage_threshold_primary_m'] > 0\n",
    "lateral_flux[perc_lat_switch] = reservoir['coeff_secondary'] * torch.minimum(\n",
    "    (ys_avg[perc_lat_switch] - reservoir['storage_threshold_primary_m']) / (\n",
    "                reservoir['storage_max_m'] - reservoir['storage_threshold_primary_m']), torch.tensor([1.0]))\n",
    "lateral_flux_frac = lateral_flux * t_proportion\n",
    "\n",
    "perc_flux = torch.zeros(ys_avg.shape)\n",
    "perc_flux[perc_lat_switch] = reservoir['coeff_primary'] * torch.minimum(\n",
    "    (ys_avg[perc_lat_switch] - reservoir['storage_threshold_primary_m']) / (\n",
    "                reservoir['storage_max_m'] - reservoir['storage_threshold_primary_m']), torch.tensor([1.0]))\n",
    "perc_flux_frac = perc_flux * t_proportion\n",
    "\n",
    "et_from_soil = torch.zeros(ys_avg.shape)\n",
    "ET_switch = ys_avg - reservoir['wilting_point_m'] > 0\n",
    "et_from_soil[ET_switch] = cfe_state['reduced_potential_et_m_per_timestep'] * torch.minimum(\n",
    "    (ys_avg[ET_switch] - reservoir['wilting_point_m']) / (reservoir['storage_threshold_primary_m'] - reservoir['wilting_point_m']), torch.tensor([1.0]))\n",
    "et_from_soil_frac = et_from_soil * t_proportion\n",
    "\n",
    "infilt_to_soil = cfe_state['infiltration_depth_m'].repeat(ys_avg.shape)\n",
    "infilt_to_soil_frac = infilt_to_soil * t_proportion\n",
    "\n",
    "# Scale fluxes (Since the sum of all the estimated flux above usually exceed the input flux because of calculation errors, scale it\n",
    "# The more finer ODE time descritization you use, the less errors you get, but the more calculation time it takes \n",
    "sum_outflux = lateral_flux_frac + perc_flux_frac + et_from_soil_frac\n",
    "if sum_outflux.any() == 0:\n",
    "    flux_scale = 0\n",
    "else:\n",
    "    flux_scale = torch.zeros(infilt_to_soil_frac.shape)\n",
    "    flux_scale[sum_outflux != 0] = (torch.diff(-ys_concat, dim=0)[sum_outflux != 0] + infilt_to_soil_frac[\n",
    "        sum_outflux != 0]) / sum_outflux[sum_outflux != 0]\n",
    "    flux_scale[sum_outflux == 0] = 0\n",
    "scaled_lateral_flux = lateral_flux_frac * flux_scale\n",
    "scaled_perc_flux = perc_flux_frac * flux_scale\n",
    "scaled_et_flux = et_from_soil_frac * flux_scale\n",
    "\n",
    "# Pass the results\n",
    "# ? Do these all gets tracked? \n",
    "primary_flux_m = math.fsum(scaled_perc_flux)\n",
    "secondary_flux_m = math.fsum(scaled_lateral_flux)\n",
    "actual_et_from_soil_m_per_timestep = math.fsum(scaled_et_flux)\n",
    "reservoir['storage_m'] = ys_concat[-1]\n",
    "\n",
    "print(f'primary_flux_m: {primary_flux_m}')\n",
    "print(f'secondary_flux_m: {secondary_flux_m}')\n",
    "print(f'actual_et_from_soil_m_per_timestep: {actual_et_from_soil_m_per_timestep}')\n",
    "print(f'reservoir[\"storage_m\"]: {reservoir[\"storage_m\"]}')\n",
    "\n",
    "# cfe_state.primary_flux_m = math.fsum(scaled_perc_flux)\n",
    "# cfe_state.secondary_flux_m = math.fsum(scaled_lateral_flux)\n",
    "# cfe_state.actual_et_from_soil_m_per_timestep = math.fsum(scaled_et_flux)\n",
    "# # reservoir['storage_m'] = ys_concat[-1]\n",
    "# cfe_state.soil_reservoir['storage_m'] = ys_concat[-1]"
   ]
  },
  {
   "attachments": {},
   "cell_type": "markdown",
   "metadata": {},
   "source": [
    "# Test nash cascade"
   ]
  },
  {
   "cell_type": "code",
   "execution_count": 1,
   "metadata": {},
   "outputs": [],
   "source": [
    "import torch"
   ]
  },
  {
   "cell_type": "code",
   "execution_count": 2,
   "metadata": {},
   "outputs": [],
   "source": [
    "num_lateral_flow_nash_reservoirs = 2\n",
    "K_nash = 0.3"
   ]
  },
  {
   "cell_type": "code",
   "execution_count": 68,
   "metadata": {},
   "outputs": [
    {
     "name": "stdout",
     "output_type": "stream",
     "text": [
      "Nash   :tensor([0.3000, 0.0000])\n",
      "Q      :(tensor(0.), tensor(0.))\n",
      "Nash   :tensor([0.5100, 0.0900])\n",
      "Q      :(tensor(0.0900), tensor(0.))\n",
      "Nash   :tensor([0.6570, 0.2160])\n",
      "Q      :(tensor(0.1530), tensor(0.0270))\n",
      "Nash   :tensor([0.7599, 0.3483])\n",
      "Q      :(tensor(0.1971), tensor(0.0648))\n",
      "Nash   :tensor([0.8319, 0.4718])\n",
      "Q      :(tensor(0.2280), tensor(0.1045))\n"
     ]
    }
   ],
   "source": [
    "nash_storage = torch.tensor([0,0], dtype=torch.float)\n",
    "for t in range(5):\n",
    "    \n",
    "    flux_lat_m = torch.tensor(0.3, dtype=torch.float)\n",
    "    Q = torch.zeros(num_lateral_flow_nash_reservoirs)\n",
    "    for i in range(num_lateral_flow_nash_reservoirs):\n",
    "        \n",
    "        if i != 0:\n",
    "            # For the next reservoir\n",
    "            Q_i_mnus_1 = Q_i\n",
    "\n",
    "\n",
    "        # Calculate the discharge from nash storage[i]\n",
    "        Q[i] = K_nash * nash_storage[i]\n",
    "        \n",
    "        # Current Q_i\n",
    "        Q_i = Q[i]\n",
    "\n",
    "        # Subtract the discharge from the nash storage [i]\n",
    "        nash_storage[i] = nash_storage[i] - Q_i\n",
    "\n",
    "        # The first storage gets the lateral flow from soil\n",
    "        if i == 0:\n",
    "            nash_storage[i] = nash_storage[i] + flux_lat_m\n",
    "        # The remaining storage receives the discharge from nash storage [i-1]\n",
    "        else:\n",
    "            nash_storage[i] = nash_storage[i] + Q_i_mnus_1 #Q[i-1]\n",
    "\n",
    "    \n",
    "    # The final discharge at the timestep from nash cascade is Q[cfe_state.num_lateral_flow_nash_reservoirs-1]\n",
    "    flux_nash_lateral_runoff_m = Q_i #Q[cfe_state.num_lateral_flow_nash_reservoirs - 1]\n",
    "    print(f'Nash   :{nash_storage}')\n",
    "    print(f'Q      :{Q_i_mnus_1, Q_i}')"
   ]
  },
  {
   "cell_type": "code",
   "execution_count": 5,
   "metadata": {},
   "outputs": [
    {
     "name": "stdout",
     "output_type": "stream",
     "text": [
      "Nash   :tensor([0.3000, 0.0000])\n",
      "Q      :(tensor(0.), tensor(0.))\n",
      "Nash   :tensor([0.5100, 0.0900])\n",
      "Q      :(tensor(0.0900), tensor(0.))\n",
      "Nash   :tensor([0.6570, 0.2160])\n",
      "Q      :(tensor(0.1530), tensor(0.0270))\n",
      "Nash   :tensor([0.7599, 0.3483])\n",
      "Q      :(tensor(0.1971), tensor(0.0648))\n",
      "Nash   :tensor([0.8319, 0.4718])\n",
      "Q      :(tensor(0.2280), tensor(0.1045))\n"
     ]
    }
   ],
   "source": [
    "nash_storage = torch.tensor([0,0], dtype=torch.float)\n",
    "for t in range(5):\n",
    "    # Reset the discharge from nash cascades\n",
    "    flux_lat_m = torch.tensor(0.3, dtype=torch.float)\n",
    "    Q = torch.zeros(num_lateral_flow_nash_reservoirs)\n",
    "\n",
    "    # Loop through the nash reservoir\n",
    "    for i in range(num_lateral_flow_nash_reservoirs):\n",
    "        \n",
    "        if i != 0:\n",
    "            # Save this variable for the lower nash storage\n",
    "            Q_i_mnus_1 = Q_i\n",
    "\n",
    "        # Clone the variable for gradient tracking \n",
    "        n_i = nash_storage[i].clone()\n",
    "        Q_i = Q[i].clone()\n",
    "        \n",
    "        # Calculate the discharge Q[i] from nash storage[i]\n",
    "        Q_i = K_nash * n_i\n",
    "\n",
    "        # Subtract the discharge Q[i] from the nash storage [i]\n",
    "        n_i = n_i - Q_i\n",
    "\n",
    "        # The first storage gets the lateral flow from soil\n",
    "        if i == 0:\n",
    "            n_i = n_i + flux_lat_m\n",
    "        # The remaining storage receives the discharge from upper nash storage Q[i-1]\n",
    "        else:\n",
    "            n_i = n_i + Q_i_mnus_1\n",
    "            \n",
    "        # Clone back the variable for gradient tracking \n",
    "        Q[i] = Q_i.clone()\n",
    "        nash_storage[i] = n_i.clone()\n",
    "\n",
    "    # The final discharge at the timestep from nash cascade is from the lowermost nash storage\n",
    "    flux_nash_lateral_runoff_m = Q_i\n",
    "    print(f'Nash   :{nash_storage}')\n",
    "    print(f'Q      :{Q_i_mnus_1, Q_i}')"
   ]
  },
  {
   "cell_type": "code",
   "execution_count": 81,
   "metadata": {},
   "outputs": [],
   "source": [
    "import numpy as np\n",
    "\n",
    "num_lateral_flow_nash_reservoirs = 2\n",
    "K_nash = 0.3\n"
   ]
  },
  {
   "cell_type": "code",
   "execution_count": 82,
   "metadata": {},
   "outputs": [
    {
     "name": "stdout",
     "output_type": "stream",
     "text": [
      "Nash:[3. 0.]\n",
      "Q   :(2.2797, 1.0449)\n",
      "Nash:[5.1 0.9]\n",
      "Q   :(2.2797, 1.0449)\n",
      "Nash:[6.57 2.16]\n",
      "Q   :(2.2797, 1.0449)\n",
      "Nash:[7.599 3.483]\n",
      "Q   :(2.2797, 1.0449)\n",
      "Nash:[8.3193 4.7178]\n",
      "Q   :(2.2797, 1.0449)\n"
     ]
    }
   ],
   "source": [
    "nash_storage_np = np.zeros(num_lateral_flow_nash_reservoirs)\n",
    "for t in range(5):\n",
    "    Q = np.zeros(num_lateral_flow_nash_reservoirs)\n",
    "    flux_lat_m = 3\n",
    "\n",
    "    for i in range(num_lateral_flow_nash_reservoirs):\n",
    "        \n",
    "        Q[i] = K_nash * nash_storage_np[i]\n",
    "        \n",
    "        \n",
    "        nash_storage_np[i] -= Q[i]\n",
    "        \n",
    "        if i == 0:\n",
    "            nash_storage_np[i] += flux_lat_m\n",
    "        else:\n",
    "            nash_storage_np[i] += Q[i-1]\n",
    "\n",
    "    flux_nash_lateral_runoff_m = Q[num_lateral_flow_nash_reservoirs - 1]\n",
    "    print(f'Nash:{nash_storage_np}')\n",
    "    print(f'Q   :{Q_i_mnus_1, Q_i}')\n"
   ]
  },
  {
   "cell_type": "markdown",
   "metadata": {},
   "source": [
    "# Plot results"
   ]
  },
  {
   "cell_type": "code",
   "execution_count": 17,
   "metadata": {},
   "outputs": [],
   "source": [
    "import pandas as pd"
   ]
  },
  {
   "cell_type": "code",
   "execution_count": 18,
   "metadata": {},
   "outputs": [
    {
     "data": {
      "text/html": [
       "<div>\n",
       "<style scoped>\n",
       "    .dataframe tbody tr th:only-of-type {\n",
       "        vertical-align: middle;\n",
       "    }\n",
       "\n",
       "    .dataframe tbody tr th {\n",
       "        vertical-align: top;\n",
       "    }\n",
       "\n",
       "    .dataframe thead th {\n",
       "        text-align: right;\n",
       "    }\n",
       "</style>\n",
       "<table border=\"1\" class=\"dataframe\">\n",
       "  <thead>\n",
       "    <tr style=\"text-align: right;\">\n",
       "      <th></th>\n",
       "      <th>0</th>\n",
       "      <th>1</th>\n",
       "    </tr>\n",
       "  </thead>\n",
       "  <tbody>\n",
       "    <tr>\n",
       "      <th>0</th>\n",
       "      <td>0.0</td>\n",
       "      <td>NaN</td>\n",
       "    </tr>\n",
       "    <tr>\n",
       "      <th>1</th>\n",
       "      <td>0.0</td>\n",
       "      <td>NaN</td>\n",
       "    </tr>\n",
       "    <tr>\n",
       "      <th>2</th>\n",
       "      <td>0.0</td>\n",
       "      <td>NaN</td>\n",
       "    </tr>\n",
       "    <tr>\n",
       "      <th>3</th>\n",
       "      <td>0.0</td>\n",
       "      <td>NaN</td>\n",
       "    </tr>\n",
       "    <tr>\n",
       "      <th>4</th>\n",
       "      <td>0.0</td>\n",
       "      <td>NaN</td>\n",
       "    </tr>\n",
       "  </tbody>\n",
       "</table>\n",
       "</div>"
      ],
      "text/plain": [
       "     0   1\n",
       "0  0.0 NaN\n",
       "1  0.0 NaN\n",
       "2  0.0 NaN\n",
       "3  0.0 NaN\n",
       "4  0.0 NaN"
      ]
     },
     "execution_count": 18,
     "metadata": {},
     "output_type": "execute_result"
    }
   ],
   "source": [
    "testrun_numpy = pd.read_csv(r'G:\\Shared drives\\SI_NextGen_Aridity\\dCFE\\output\\testrun_numpy_classic.csv', header=None)\n",
    "testrun_numpy.head()"
   ]
  },
  {
   "cell_type": "code",
   "execution_count": 19,
   "metadata": {},
   "outputs": [
    {
     "data": {
      "text/html": [
       "<div>\n",
       "<style scoped>\n",
       "    .dataframe tbody tr th:only-of-type {\n",
       "        vertical-align: middle;\n",
       "    }\n",
       "\n",
       "    .dataframe tbody tr th {\n",
       "        vertical-align: top;\n",
       "    }\n",
       "\n",
       "    .dataframe thead th {\n",
       "        text-align: right;\n",
       "    }\n",
       "</style>\n",
       "<table border=\"1\" class=\"dataframe\">\n",
       "  <thead>\n",
       "    <tr style=\"text-align: right;\">\n",
       "      <th></th>\n",
       "      <th>0</th>\n",
       "      <th>1</th>\n",
       "    </tr>\n",
       "  </thead>\n",
       "  <tbody>\n",
       "    <tr>\n",
       "      <th>0</th>\n",
       "      <td>10.134037</td>\n",
       "      <td>0.091936</td>\n",
       "    </tr>\n",
       "    <tr>\n",
       "      <th>1</th>\n",
       "      <td>0.000000</td>\n",
       "      <td>0.091416</td>\n",
       "    </tr>\n",
       "    <tr>\n",
       "      <th>2</th>\n",
       "      <td>4.523153</td>\n",
       "      <td>0.091069</td>\n",
       "    </tr>\n",
       "    <tr>\n",
       "      <th>3</th>\n",
       "      <td>6.332414</td>\n",
       "      <td>0.090548</td>\n",
       "    </tr>\n",
       "    <tr>\n",
       "      <th>4</th>\n",
       "      <td>6.649035</td>\n",
       "      <td>0.090548</td>\n",
       "    </tr>\n",
       "  </tbody>\n",
       "</table>\n",
       "</div>"
      ],
      "text/plain": [
       "           0         1\n",
       "0  10.134037  0.091936\n",
       "1   0.000000  0.091416\n",
       "2   4.523153  0.091069\n",
       "3   6.332414  0.090548\n",
       "4   6.649035  0.090548"
      ]
     },
     "execution_count": 19,
     "metadata": {},
     "output_type": "execute_result"
    }
   ],
   "source": [
    "testrun_torch = pd.read_csv(r'G:\\Shared drives\\SI_NextGen_Aridity\\dCFE\\output\\2023-07-07_debugger\\test_ts_before_backward_propagation.csv', header=None)\n",
    "testrun_torch.head()"
   ]
  },
  {
   "cell_type": "code",
   "execution_count": 25,
   "metadata": {},
   "outputs": [
    {
     "data": {
      "text/plain": [
       "[<matplotlib.lines.Line2D at 0x22b9abd2a10>]"
      ]
     },
     "execution_count": 25,
     "metadata": {},
     "output_type": "execute_result"
    },
    {
     "data": {
      "image/png": "[encoded data removed]",
      "text/plain": [
       "<Figure size 640x480 with 1 Axes>"
      ]
     },
     "metadata": {},
     "output_type": "display_data"
    }
   ],
   "source": [
    "import matplotlib.pyplot as plt\n",
    "plt.plot(testrun_numpy[0])\n",
    "plt.plot(testrun_numpy[0][50:])\n",
    "\n"
   ]
  },
  {
   "cell_type": "code",
   "execution_count": 26,
   "metadata": {},
   "outputs": [
    {
     "data": {
      "text/plain": [
       "[<matplotlib.lines.Line2D at 0x22b9bc06aa0>]"
      ]
     },
     "execution_count": 26,
     "metadata": {},
     "output_type": "execute_result"
    },
    {
     "data": {
      "image/png": "[encoded data removed]",
      "text/plain": [
       "<Figure size 640x480 with 1 Axes>"
      ]
     },
     "metadata": {},
     "output_type": "display_data"
    }
   ],
   "source": [
    "plt.plot(testrun_numpy[0] - testrun_numpy[0][50:])"
   ]
  },
  {
   "cell_type": "code",
   "execution_count": 2,
   "metadata": {},
   "outputs": [],
   "source": [
    "import pandas as pd"
   ]
  },
  {
   "cell_type": "code",
   "execution_count": 3,
   "metadata": {},
   "outputs": [
    {
     "name": "stdout",
     "output_type": "stream",
     "text": [
      "4318\n"
     ]
    },
    {
     "data": {
      "text/html": [
       "<div>\n",
       "<style scoped>\n",
       "    .dataframe tbody tr th:only-of-type {\n",
       "        vertical-align: middle;\n",
       "    }\n",
       "\n",
       "    .dataframe tbody tr th {\n",
       "        vertical-align: top;\n",
       "    }\n",
       "\n",
       "    .dataframe thead th {\n",
       "        text-align: right;\n",
       "    }\n",
       "</style>\n",
       "<table border=\"1\" class=\"dataframe\">\n",
       "  <thead>\n",
       "    <tr style=\"text-align: right;\">\n",
       "      <th></th>\n",
       "      <th>0</th>\n",
       "      <th>1</th>\n",
       "    </tr>\n",
       "  </thead>\n",
       "  <tbody>\n",
       "    <tr>\n",
       "      <th>0</th>\n",
       "      <td>0.0</td>\n",
       "      <td>NaN</td>\n",
       "    </tr>\n",
       "    <tr>\n",
       "      <th>1</th>\n",
       "      <td>0.0</td>\n",
       "      <td>NaN</td>\n",
       "    </tr>\n",
       "    <tr>\n",
       "      <th>2</th>\n",
       "      <td>0.0</td>\n",
       "      <td>NaN</td>\n",
       "    </tr>\n",
       "    <tr>\n",
       "      <th>3</th>\n",
       "      <td>0.0</td>\n",
       "      <td>NaN</td>\n",
       "    </tr>\n",
       "    <tr>\n",
       "      <th>4</th>\n",
       "      <td>0.0</td>\n",
       "      <td>NaN</td>\n",
       "    </tr>\n",
       "  </tbody>\n",
       "</table>\n",
       "</div>"
      ],
      "text/plain": [
       "     0   1\n",
       "0  0.0 NaN\n",
       "1  0.0 NaN\n",
       "2  0.0 NaN\n",
       "3  0.0 NaN\n",
       "4  0.0 NaN"
      ]
     },
     "execution_count": 3,
     "metadata": {},
     "output_type": "execute_result"
    }
   ],
   "source": [
    "testrun_numpy = pd.read_csv(r'G:\\Shared drives\\SI_NextGen_Aridity\\dCFE\\output\\testrun_numpy_ode.csv', header=None)\n",
    "print(len(testrun_numpy))\n",
    "testrun_numpy.head()"
   ]
  },
  {
   "cell_type": "code",
   "execution_count": 4,
   "metadata": {},
   "outputs": [
    {
     "name": "stdout",
     "output_type": "stream",
     "text": [
      "4368\n"
     ]
    },
    {
     "data": {
      "text/html": [
       "<div>\n",
       "<style scoped>\n",
       "    .dataframe tbody tr th:only-of-type {\n",
       "        vertical-align: middle;\n",
       "    }\n",
       "\n",
       "    .dataframe tbody tr th {\n",
       "        vertical-align: top;\n",
       "    }\n",
       "\n",
       "    .dataframe thead th {\n",
       "        text-align: right;\n",
       "    }\n",
       "</style>\n",
       "<table border=\"1\" class=\"dataframe\">\n",
       "  <thead>\n",
       "    <tr style=\"text-align: right;\">\n",
       "      <th></th>\n",
       "      <th>0</th>\n",
       "      <th>1</th>\n",
       "    </tr>\n",
       "  </thead>\n",
       "  <tbody>\n",
       "    <tr>\n",
       "      <th>0</th>\n",
       "      <td>7.784293</td>\n",
       "      <td>0.091936</td>\n",
       "    </tr>\n",
       "    <tr>\n",
       "      <th>1</th>\n",
       "      <td>0.699683</td>\n",
       "      <td>0.091416</td>\n",
       "    </tr>\n",
       "    <tr>\n",
       "      <th>2</th>\n",
       "      <td>3.655620</td>\n",
       "      <td>0.091069</td>\n",
       "    </tr>\n",
       "    <tr>\n",
       "      <th>3</th>\n",
       "      <td>5.790449</td>\n",
       "      <td>0.090548</td>\n",
       "    </tr>\n",
       "    <tr>\n",
       "      <th>4</th>\n",
       "      <td>6.570909</td>\n",
       "      <td>0.090548</td>\n",
       "    </tr>\n",
       "  </tbody>\n",
       "</table>\n",
       "</div>"
      ],
      "text/plain": [
       "          0         1\n",
       "0  7.784293  0.091936\n",
       "1  0.699683  0.091416\n",
       "2  3.655620  0.091069\n",
       "3  5.790449  0.090548\n",
       "4  6.570909  0.090548"
      ]
     },
     "execution_count": 4,
     "metadata": {},
     "output_type": "execute_result"
    }
   ],
   "source": [
    "testrun_torch = pd.read_csv(r'G:\\Shared drives\\SI_NextGen_Aridity\\dCFE\\output\\2023-07-07_debugger\\test_ts_before_backward_propagation.csv', header=None)\n",
    "print(len(testrun_torch))\n",
    "testrun_torch.head()"
   ]
  },
  {
   "cell_type": "code",
   "execution_count": 5,
   "metadata": {},
   "outputs": [
    {
     "data": {
      "text/plain": [
       "[<matplotlib.lines.Line2D at 0x24726d6dae0>]"
      ]
     },
     "execution_count": 5,
     "metadata": {},
     "output_type": "execute_result"
    },
    {
     "data": {
      "image/png": "[encoded data removed]",
      "text/plain": [
       "<Figure size 640x480 with 1 Axes>"
      ]
     },
     "metadata": {},
     "output_type": "display_data"
    }
   ],
   "source": [
    "import matplotlib.pyplot as plt\n",
    "plt.plot(testrun_numpy[0])\n",
    "plt.plot(testrun_numpy[0][50:])\n",
    "\n"
   ]
  },
  {
   "cell_type": "code",
   "execution_count": 6,
   "metadata": {},
   "outputs": [
    {
     "data": {
      "text/plain": [
       "[<matplotlib.lines.Line2D at 0x24726e43760>]"
      ]
     },
     "execution_count": 6,
     "metadata": {},
     "output_type": "execute_result"
    },
    {
     "data": {
      "image/png": "[encoded data removed]",
      "text/plain": [
       "<Figure size 640x480 with 1 Axes>"
      ]
     },
     "metadata": {},
     "output_type": "display_data"
    }
   ],
   "source": [
    "plt.plot(testrun_numpy[0] - testrun_numpy[0][50:])"
   ]
  },
  {
   "cell_type": "code",
   "execution_count": 7,
   "metadata": {},
   "outputs": [],
   "source": [
    "testrun_numpy_ode = pd.read_csv(r'G:\\Shared drives\\SI_NextGen_Aridity\\dCFE\\output\\testrun_numpy_ode.csv', header=None)\n",
    "testrun_numpy_classic = pd.read_csv(r'G:\\Shared drives\\SI_NextGen_Aridity\\dCFE\\output\\testrun_numpy_classic.csv', header=None)\n"
   ]
  },
  {
   "cell_type": "code",
   "execution_count": 8,
   "metadata": {},
   "outputs": [
    {
     "data": {
      "text/plain": [
       "[<matplotlib.lines.Line2D at 0x24727fcbee0>]"
      ]
     },
     "execution_count": 8,
     "metadata": {},
     "output_type": "execute_result"
    },
    {
     "data": {
      "image/png": "[encoded data removed]",
      "text/plain": [
       "<Figure size 640x480 with 1 Axes>"
      ]
     },
     "metadata": {},
     "output_type": "display_data"
    }
   ],
   "source": [
    "plt.plot(testrun_numpy_ode[0])\n",
    "plt.plot(testrun_numpy_classic[0])\n"
   ]
  },
  {
   "cell_type": "code",
   "execution_count": null,
   "metadata": {},
   "outputs": [],
   "source": []
  }
 ],
 "metadata": {
  "kernelspec": {
   "display_name": "CFE-torch",
   "language": "python",
   "name": "python3"
  },
  "language_info": {
   "codemirror_mode": {
    "name": "ipython",
    "version": 3
   },
   "file_extension": ".py",
   "mimetype": "text/x-python",
   "name": "python",
   "nbconvert_exporter": "python",
   "pygments_lexer": "ipython3",
   "version": "3.11.4"
  },
  "orig_nbformat": 4
 },
 "nbformat": 4,
 "nbformat_minor": 2
}
