{
 "cells": [
  {
   "cell_type": "code",
   "execution_count": 1,
   "metadata": {},
   "outputs": [],
   "source": [
    "import time\n",
    "import numpy as np\n",
    "import pandas as pd\n",
    "import json\n",
    "import matplotlib.pyplot as plt\n",
    "import bmi_cfe_perturb_ens"
   ]
  },
  {
   "cell_type": "markdown",
   "metadata": {},
   "source": [
    "# 1. Run Normal CFE Simulations"
   ]
  },
  {
   "cell_type": "code",
   "execution_count": 2,
   "metadata": {},
   "outputs": [],
   "source": [
    "cfe_instance = bmi_cfe_perturb_ens.BMI_CFE('./cat58_config_cfe_perturbs.json')"
   ]
  },
  {
   "cell_type": "code",
   "execution_count": 3,
   "metadata": {},
   "outputs": [],
   "source": [
    "cfe_instance.initialize()\n"
   ]
  },
  {
   "cell_type": "code",
   "execution_count": 4,
   "metadata": {},
   "outputs": [],
   "source": [
    "with open(cfe_instance.forcing_file, 'r') as f:\n",
    "    df_forcing = pd.read_csv(f)\n",
    "    \n",
    "outputs = cfe_instance.get_output_var_names()\n",
    "output_lists = {output:{ens:[] for ens in range(cfe_instance.n_cfe_ensembles)} for output in outputs}\n",
    "\n",
    "\n",
    "for t, precip in enumerate(df_forcing['APCP_surface']):\n",
    "    \n",
    "    cfe_instance.set_value('atmosphere_water__time_integral_of_precipitation_mass_flux', precip)\n",
    "    \n",
    "    cfe_instance.update()\n",
    "    \n",
    "    for output in outputs:\n",
    "    \n",
    "        temp_output = cfe_instance.get_value(output)\n",
    "        \n",
    "        for ens in range(cfe_instance.n_cfe_ensembles):\n",
    "            if output == 'atmosphere_water__time_integral_of_precipitation_mass_flux':\n",
    "                output_lists[output][ens].append(temp_output)\n",
    "            else:\n",
    "                output_lists[output][ens].append(temp_output[ens])"
   ]
  },
  {
   "cell_type": "code",
   "execution_count": 5,
   "metadata": {},
   "outputs": [
    {
     "name": "stdout",
     "output_type": "stream",
     "text": [
      "\n",
      "GLOBAL MASS BALANCE\n",
      "  initial volume:   0.7456\n",
      "    volume input:   0.0000\n",
      "   volume output:   0.2631\n",
      "    final volume:   0.0000\n",
      "        residual: 1.4674e-02\n"
     ]
    }
   ],
   "source": [
    "cfe_instance.finalize()"
   ]
  },
  {
   "cell_type": "code",
   "execution_count": 6,
   "metadata": {
    "tags": []
   },
   "outputs": [
    {
     "data": {
      "image/png": "[encoded data removed]",
      "text/plain": [
       "<Figure size 640x480 with 1 Axes>"
      ]
     },
     "metadata": {},
     "output_type": "display_data"
    }
   ],
   "source": [
    "for ens in range(cfe_instance.n_cfe_ensembles):\n",
    "    plt.plot(df_forcing.index.values, output_lists['land_surface_water__runoff_depth'][ens], c=\"b\")\n",
    "    plt.plot(df_forcing.index.values, output_lists['SOIL_CONCEPTUAL_STORAGE'][ens], c=\"g\")\n",
    "plt.plot(df_forcing.index.values, df_forcing['APCP_surface'], c=\"cyan\")\n",
    "plt.show()\n",
    "plt.close()"
   ]
  },
  {
   "cell_type": "code",
   "execution_count": 7,
   "metadata": {
    "tags": []
   },
   "outputs": [
    {
     "data": {
      "text/plain": [
       "dict_keys(['land_surface_water__runoff_depth', 'land_surface_water__runoff_volume_flux', 'DIRECT_RUNOFF', 'GIUH_RUNOFF', 'NASH_LATERAL_RUNOFF', 'DEEP_GW_TO_CHANNEL_FLUX', 'SOIL_CONCEPTUAL_STORAGE', 'atmosphere_water__time_integral_of_precipitation_mass_flux'])"
      ]
     },
     "execution_count": 7,
     "metadata": {},
     "output_type": "execute_result"
    }
   ],
   "source": [
    "output_lists.keys()"
   ]
  },
  {
   "cell_type": "code",
   "execution_count": null,
   "metadata": {},
   "outputs": [],
   "source": []
  }
 ],
 "metadata": {
  "kernelspec": {
   "display_name": "Python 3 (ipykernel)",
   "language": "python",
   "name": "python3"
  },
  "language_info": {
   "codemirror_mode": {
    "name": "ipython",
    "version": 3
   },
   "file_extension": ".py",
   "mimetype": "text/x-python",
   "name": "python",
   "nbconvert_exporter": "python",
   "pygments_lexer": "ipython3",
   "version": "3.9.16"
  },
  "vscode": {
   "interpreter": {
    "hash": "01d3253c1168740d9ef2f293e3773b12c83382be17989c0cb85e17b3e40bf904"
   }
  }
 },
 "nbformat": 4,
 "nbformat_minor": 4
}
