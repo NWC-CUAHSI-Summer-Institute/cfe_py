{
 "cells": [
  {
   "attachments": {},
   "cell_type": "markdown",
   "metadata": {},
   "source": [
    "https://pytorch.org/tutorials/beginner/basics/tensorqs_tutorial.html  \n",
    "https://github.com/rtqichen/torchdiffeq/blob/master/examples/cnf.py"
   ]
  },
  {
   "cell_type": "code",
   "execution_count": 54,
   "metadata": {},
   "outputs": [],
   "source": [
    "import torch\n",
    "import numpy as np\n",
    "import argparse\n",
    "import matplotlib.pyplot as plt\n",
    "\n",
    "import torch\n",
    "import torch.nn as nn\n",
    "\n",
    "from torchdiffeq import odeint, odeint_adjoint\n",
    "from torchdiffeq import odeint_event\n",
    "\n",
    "torch.set_default_dtype(torch.float64)"
   ]
  },
  {
   "cell_type": "code",
   "execution_count": 64,
   "metadata": {},
   "outputs": [],
   "source": [
    "class soil_moisture_flux_ode(nn.Module):\n",
    "    \n",
    "    def __init__(self, cfe_state=None, reservoir=None):\n",
    "        super().__init__()\n",
    "        self.cfe_state = cfe_state\n",
    "        self.reservoir = reservoir\n",
    "\n",
    "    def forward(self, t, states):\n",
    "        \n",
    "        S = states[0]\n",
    "            \n",
    "        storage_above_threshold_m = S - reservoir['storage_threshold_primary_m']\n",
    "        storage_diff = reservoir['storage_max_m'] - reservoir['storage_threshold_primary_m']\n",
    "        storage_ratio = torch.minimum(storage_above_threshold_m / storage_diff, torch.tensor([1.0]))\n",
    "\n",
    "        perc_lat_switch = torch.multiply(S - reservoir['storage_threshold_primary_m'] > 0, 1)\n",
    "        ET_switch = torch.multiply(S - reservoir['wilting_point_m'] > 0, 1)\n",
    "\n",
    "        storage_above_threshold_m_paw = S - reservoir['wilting_point_m']\n",
    "        storage_diff_paw = reservoir['storage_threshold_primary_m'] - reservoir['wilting_point_m']\n",
    "        storage_ratio_paw = torch.minimum(storage_above_threshold_m_paw / storage_diff_paw, torch.tensor([0.3])) # Equation 11 (Ogden's document)\n",
    "        dS_dt = cfe_state['infiltration_depth_m'] -1 * perc_lat_switch * (reservoir['coeff_primary'] + reservoir['coeff_secondary']) * storage_ratio - ET_switch * cfe_state['reduced_potential_et_m_per_timestep'] * storage_ratio_paw\n",
    "        \n",
    "        return (dS_dt)"
   ]
  },
  {
   "cell_type": "code",
   "execution_count": 65,
   "metadata": {},
   "outputs": [],
   "source": [
    "\n",
    "# Initialization\n",
    "y0 = torch.tensor([0.3])\n",
    "t = torch.tensor([0, 0.05, 0.15, 0.3, 0.6, 1.0]) # ODE time descritization of one time step\n",
    "cfe_state = {}\n",
    "cfe_state['infiltration_depth_m'] = torch.tensor([0.1])\n",
    "cfe_state['reduced_potential_et_m_per_timestep'] = torch.tensor([0.003])\n",
    "reservoir = {}\n",
    "reservoir['storage_threshold_primary_m'] = torch.tensor([0.2])\n",
    "reservoir['storage_max_m'] = torch.tensor([0.4])\n",
    "reservoir['wilting_point_m'] = torch.tensor([0.1])\n",
    "reservoir['coeff_primary'] = torch.tensor([0.4])\n",
    "reservoir['coeff_secondary'] = torch.tensor([0.4])\n",
    "\n",
    "# Pass parameters beforehand\n",
    "device = 'cpu'\n",
    "func = soil_moisture_flux_ode(cfe_state=cfe_state, reservoir=reservoir).to(device)\n",
    "\n",
    "# Solve and ODE\n",
    "sol = odeint(\n",
    "    func,\n",
    "    y0,\n",
    "    t,\n",
    "    atol=1e-5,\n",
    "    rtol=1e-5,\n",
    "    # adjoint_params=()\n",
    ")\n",
    "\n"
   ]
  },
  {
   "cell_type": "code",
   "execution_count": 85,
   "metadata": {},
   "outputs": [
    {
     "data": {
      "text/plain": [
       "torch.Size([6, 1])"
      ]
     },
     "execution_count": 85,
     "metadata": {},
     "output_type": "execute_result"
    }
   ],
   "source": [
    "sol.shape"
   ]
  },
  {
   "cell_type": "code",
   "execution_count": 93,
   "metadata": {},
   "outputs": [
    {
     "data": {
      "text/plain": [
       "tensor([0.3000, 0.2864, 0.2661, 0.2474, 0.2316, 0.2262])"
      ]
     },
     "execution_count": 93,
     "metadata": {},
     "output_type": "execute_result"
    }
   ],
   "source": [
    "# Finalize results\n",
    "ts_concat = t\n",
    "ys_concat = sol.squeeze()\n",
    "t_proportion = torch.diff(ts_concat, dim=0) # ts_concat[1:] - ts_concat[:-1]\n",
    "ys_concat"
   ]
  },
  {
   "cell_type": "code",
   "execution_count": 112,
   "metadata": {},
   "outputs": [
    {
     "data": {
      "text/plain": [
       "tensor([0.2932, 0.2762, 0.2567, 0.2395, 0.2289])"
      ]
     },
     "execution_count": 112,
     "metadata": {},
     "output_type": "execute_result"
    }
   ],
   "source": [
    "import torch.nn.functional as F\n",
    "\n",
    "# Create the kernel tensor with torch.ones\n",
    "kernel = torch.ones(2)\n",
    "\n",
    "# Get the moving average y values in between the time intervals\n",
    "convolved = F.conv1d(ys_concat.unsqueeze(0).unsqueeze(0), kernel.unsqueeze(0).unsqueeze(0), padding=1).squeeze()\n",
    "# Divide by 2 to match np.convolve\n",
    "ys_avg_ = convolved / 2\n",
    "ys_avg = ys_avg_[1:-1]\n",
    "ys_avg\n",
    "# Original numpy method\n",
    "# ys_avg = np.convolve(ys_concat, np.ones(2), 'valid') / 2"
   ]
  },
  {
   "cell_type": "code",
   "execution_count": 111,
   "metadata": {},
   "outputs": [
    {
     "name": "stdout",
     "output_type": "stream",
     "text": [
      "primary_flux_m: 0.08548009648611235\n",
      "secondary_flux_m: 0.08548009648611235\n",
      "actual_et_from_soil_m_per_timestep: 0.0028869109589852553\n",
      "reservoir[\"storage_m\"]: 0.22615289606879002\n"
     ]
    }
   ],
   "source": [
    "import math\n",
    "lateral_flux = torch.zeros(ys_avg.shape)\n",
    "perc_lat_switch = ys_avg - reservoir['storage_threshold_primary_m'] > 0\n",
    "lateral_flux[perc_lat_switch] = reservoir['coeff_secondary'] * torch.minimum(\n",
    "    (ys_avg[perc_lat_switch] - reservoir['storage_threshold_primary_m']) / (\n",
    "                reservoir['storage_max_m'] - reservoir['storage_threshold_primary_m']), torch.tensor([1.0]))\n",
    "lateral_flux_frac = lateral_flux * t_proportion\n",
    "\n",
    "perc_flux = torch.zeros(ys_avg.shape)\n",
    "perc_flux[perc_lat_switch] = reservoir['coeff_primary'] * torch.minimum(\n",
    "    (ys_avg[perc_lat_switch] - reservoir['storage_threshold_primary_m']) / (\n",
    "                reservoir['storage_max_m'] - reservoir['storage_threshold_primary_m']), torch.tensor([1.0]))\n",
    "perc_flux_frac = perc_flux * t_proportion\n",
    "\n",
    "et_from_soil = torch.zeros(ys_avg.shape)\n",
    "ET_switch = ys_avg - reservoir['wilting_point_m'] > 0\n",
    "et_from_soil[ET_switch] = cfe_state['reduced_potential_et_m_per_timestep'] * torch.minimum(\n",
    "    (ys_avg[ET_switch] - reservoir['wilting_point_m']) / (reservoir['storage_threshold_primary_m'] - reservoir['wilting_point_m']), torch.tensor([1.0]))\n",
    "et_from_soil_frac = et_from_soil * t_proportion\n",
    "\n",
    "infilt_to_soil = cfe_state['infiltration_depth_m'].repeat(ys_avg.shape)\n",
    "infilt_to_soil_frac = infilt_to_soil * t_proportion\n",
    "\n",
    "# Scale fluxes (Since the sum of all the estimated flux above usually exceed the input flux because of calculation errors, scale it\n",
    "# The more finer ODE time descritization you use, the less errors you get, but the more calculation time it takes \n",
    "sum_outflux = lateral_flux_frac + perc_flux_frac + et_from_soil_frac\n",
    "if sum_outflux.any() == 0:\n",
    "    flux_scale = 0\n",
    "else:\n",
    "    flux_scale = torch.zeros(infilt_to_soil_frac.shape)\n",
    "    flux_scale[sum_outflux != 0] = (torch.diff(-ys_concat, dim=0)[sum_outflux != 0] + infilt_to_soil_frac[\n",
    "        sum_outflux != 0]) / sum_outflux[sum_outflux != 0]\n",
    "    flux_scale[sum_outflux == 0] = 0\n",
    "scaled_lateral_flux = lateral_flux_frac * flux_scale\n",
    "scaled_perc_flux = perc_flux_frac * flux_scale\n",
    "scaled_et_flux = et_from_soil_frac * flux_scale\n",
    "\n",
    "# Pass the results\n",
    "# ? Do these all gets tracked? \n",
    "primary_flux_m = math.fsum(scaled_perc_flux)\n",
    "secondary_flux_m = math.fsum(scaled_lateral_flux)\n",
    "actual_et_from_soil_m_per_timestep = math.fsum(scaled_et_flux)\n",
    "reservoir['storage_m'] = ys_concat[-1]\n",
    "\n",
    "print(f'primary_flux_m: {primary_flux_m}')\n",
    "print(f'secondary_flux_m: {secondary_flux_m}')\n",
    "print(f'actual_et_from_soil_m_per_timestep: {actual_et_from_soil_m_per_timestep}')\n",
    "print(f'reservoir[\"storage_m\"]: {reservoir[\"storage_m\"]}')\n",
    "\n",
    "# cfe_state.primary_flux_m = math.fsum(scaled_perc_flux)\n",
    "# cfe_state.secondary_flux_m = math.fsum(scaled_lateral_flux)\n",
    "# cfe_state.actual_et_from_soil_m_per_timestep = math.fsum(scaled_et_flux)\n",
    "# # reservoir['storage_m'] = ys_concat[-1]\n",
    "# cfe_state.soil_reservoir['storage_m'] = ys_concat[-1]"
   ]
  }
 ],
 "metadata": {
  "kernelspec": {
   "display_name": "CFE-torch",
   "language": "python",
   "name": "python3"
  },
  "language_info": {
   "codemirror_mode": {
    "name": "ipython",
    "version": 3
   },
   "file_extension": ".py",
   "mimetype": "text/x-python",
   "name": "python",
   "nbconvert_exporter": "python",
   "pygments_lexer": "ipython3",
   "version": "3.11.4"
  },
  "orig_nbformat": 4
 },
 "nbformat": 4,
 "nbformat_minor": 2
}
