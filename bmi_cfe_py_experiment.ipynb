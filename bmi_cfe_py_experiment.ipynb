{
 "cells": [
  {
   "cell_type": "markdown",
   "metadata": {},
   "source": [
    "# Experiment with `bmi_cfe`"
   ]
  },
  {
   "cell_type": "code",
   "execution_count": 1,
   "metadata": {
    "tags": []
   },
   "outputs": [
    {
     "name": "stdout",
     "output_type": "stream",
     "text": [
      "Requirement already satisfied: bmipy in /opt/conda/lib/python3.9/site-packages (2.0)\n",
      "Requirement already satisfied: black in /opt/conda/lib/python3.9/site-packages (from bmipy) (23.7.0)\n",
      "Requirement already satisfied: click in /opt/conda/lib/python3.9/site-packages (from bmipy) (8.1.3)\n",
      "Requirement already satisfied: jinja2 in /opt/conda/lib/python3.9/site-packages (from bmipy) (3.1.2)\n",
      "Requirement already satisfied: numpy in /opt/conda/lib/python3.9/site-packages (from bmipy) (1.24.3)\n",
      "Requirement already satisfied: mypy-extensions>=0.4.3 in /opt/conda/lib/python3.9/site-packages (from black->bmipy) (1.0.0)\n",
      "Requirement already satisfied: packaging>=22.0 in /opt/conda/lib/python3.9/site-packages (from black->bmipy) (23.1)\n",
      "Requirement already satisfied: pathspec>=0.9.0 in /opt/conda/lib/python3.9/site-packages (from black->bmipy) (0.11.1)\n",
      "Requirement already satisfied: platformdirs>=2 in /opt/conda/lib/python3.9/site-packages (from black->bmipy) (3.5.1)\n",
      "Requirement already satisfied: tomli>=1.1.0 in /opt/conda/lib/python3.9/site-packages (from black->bmipy) (2.0.1)\n",
      "Requirement already satisfied: typing-extensions>=3.10.0.0 in /opt/conda/lib/python3.9/site-packages (from black->bmipy) (4.6.3)\n",
      "Requirement already satisfied: MarkupSafe>=2.0 in /opt/conda/lib/python3.9/site-packages (from jinja2->bmipy) (2.1.3)\n"
     ]
    }
   ],
   "source": [
    "!pip install bmipy"
   ]
  },
  {
   "cell_type": "code",
   "execution_count": 2,
   "metadata": {
    "tags": []
   },
   "outputs": [
    {
     "name": "stdout",
     "output_type": "stream",
     "text": [
      "/home/jovyan/data/home/jovyan/cfe_py\n"
     ]
    },
    {
     "data": {
      "text/plain": [
       "'/home/jovyan/data/home/jovyan/cfe_py'"
      ]
     },
     "execution_count": 2,
     "metadata": {},
     "output_type": "execute_result"
    }
   ],
   "source": [
    "%cd /home/jovyan/data/home/jovyan/cfe_py/\n",
    "%pwd"
   ]
  },
  {
   "cell_type": "code",
   "execution_count": 3,
   "metadata": {
    "tags": []
   },
   "outputs": [],
   "source": [
    "import numpy as np\n",
    "from bmi_cfe import BMI_CFE"
   ]
  },
  {
   "cell_type": "markdown",
   "metadata": {},
   "source": [
    "Create a `toybmi` object and call some basic methods:"
   ]
  },
  {
   "cell_type": "markdown",
   "metadata": {
    "tags": []
   },
   "source": [
    "# Experiment with the package"
   ]
  },
  {
   "cell_type": "code",
   "execution_count": 15,
   "metadata": {
    "tags": []
   },
   "outputs": [
    {
     "name": "stdout",
     "output_type": "stream",
     "text": [
      "Input variables:\n",
      "['atmosphere_water__time_integral_of_precipitation_mass_flux', 'water_potential_evaporation_flux']\n",
      "Output variables:\n",
      "['land_surface_water__runoff_depth', 'land_surface_water__runoff_volume_flux', 'DIRECT_RUNOFF', 'GIUH_RUNOFF', 'NASH_LATERAL_RUNOFF', 'DEEP_GW_TO_CHANNEL_FLUX', 'SOIL_CONCEPTUAL_STORAGE']\n"
     ]
    }
   ],
   "source": [
    "cfe = BMI_CFE()\n",
    "print(\"Input variables:\")\n",
    "print(cfe.get_input_var_names())\n",
    "print(\"Output variables:\")\n",
    "print(cfe.get_output_var_names())"
   ]
  },
  {
   "cell_type": "code",
   "execution_count": 16,
   "metadata": {
    "tags": []
   },
   "outputs": [],
   "source": [
    "cfe.initialize(bmi_cfg_file_name='cat58_config_cfe.json')"
   ]
  },
  {
   "cell_type": "code",
   "execution_count": 17,
   "metadata": {
    "tags": []
   },
   "outputs": [],
   "source": [
    "w_input = np.array([42.0])\n",
    "cfe.set_value('atmosphere_water__time_integral_of_precipitation_mass_flux', w_input)\n",
    "rh_input = np.array([0.5])\n",
    "cfe.set_value('water_potential_evaporation_flux', rh_input)"
   ]
  },
  {
   "cell_type": "code",
   "execution_count": 18,
   "metadata": {
    "tags": []
   },
   "outputs": [],
   "source": [
    "timestep_max = 3600\n",
    "output = np.zeros(timestep_max)\n",
    "\n",
    "for i in range(0, timestep_max):\n",
    "    cfe.update()\n",
    "    output[i] = cfe.get_value('land_surface_water__runoff_depth')"
   ]
  },
  {
   "cell_type": "markdown",
   "metadata": {},
   "source": [
    "# Experiment with the ngen (installed on CUAHSI SI Jupyter Hub)"
   ]
  },
  {
   "cell_type": "code",
   "execution_count": 4,
   "metadata": {
    "tags": []
   },
   "outputs": [
    {
     "name": "stdout",
     "output_type": "stream",
     "text": [
      "NGen Framework 0.1.0\n",
      "Building Nexus collection\n",
      "Building Catchment collection\n",
      "Not Using Routing\n",
      "Catchment topology is dendritic.\n",
      "Running Models\n",
      "Running timestep 0\n",
      "terminate called after throwing an instance of 'std::runtime_error'\n",
      "  what():  (Bmi_Py_Adapter) Failed determining analogous C++ type for Python model '0.0' type with size 4 bytes.\n"
     ]
    }
   ],
   "source": [
    "!ngen /home/jovyan/data/shared-data/ngen-example-data/catchment_data.geojson \"cat-67\" /home/jovyan/data/shared-data/ngen-example-data/nexus_data.geojson \"nex-68\" bmicfe_realization.json"
   ]
  },
  {
   "cell_type": "markdown",
   "metadata": {},
   "source": [
    "# Plot results"
   ]
  },
  {
   "cell_type": "code",
   "execution_count": null,
   "metadata": {},
   "outputs": [],
   "source": [
    "!ngen catchment_data.geojson \"cat-67\" nexus_data.geojson \"nex-68\" bmicfe_realization.json"
   ]
  },
  {
   "cell_type": "code",
   "execution_count": 2,
   "metadata": {
    "tags": []
   },
   "outputs": [
    {
     "name": "stdout",
     "output_type": "stream",
     "text": [
      "     Time Step                Time  water_output\n",
      "0            0 2015-12-01 00:00:00  0.000000e+00\n",
      "1            1 2015-12-01 01:00:00  0.000000e+00\n",
      "2            2 2015-12-01 02:00:00  0.000000e+00\n",
      "3            3 2015-12-01 03:00:00  0.000000e+00\n",
      "4            4 2015-12-01 04:00:00  0.000000e+00\n",
      "..         ...                 ...           ...\n",
      "715        715 2015-12-30 19:00:00 -3.000000e-07\n",
      "716        716 2015-12-30 20:00:00 -2.700000e-07\n",
      "717        717 2015-12-30 21:00:00 -2.030000e-07\n",
      "718        718 2015-12-30 22:00:00 -6.170000e-07\n",
      "719        719 2015-12-30 23:00:00 -2.030000e-07\n",
      "\n",
      "[720 rows x 3 columns]\n"
     ]
    }
   ],
   "source": [
    "import pandas as pd\n",
    "from datetime import datetime\n",
    "import csv\n",
    "\n",
    "df = pd.read_csv('./cat-67.csv')\n",
    "df['Time'] = df['Time'].map(lambda x: datetime.strptime(str(x), '%Y-%m-%d %H:%M:%S'))\n",
    "print (df)"
   ]
  },
  {
   "cell_type": "code",
   "execution_count": null,
   "metadata": {},
   "outputs": [],
   "source": [
    "import matplotlib.pyplot as plt\n",
    "import matplotlib.dates as mdates\n",
    "\n",
    "# plot\n",
    "plt.plot(df[\"Time\"],df[\"water_output\"])\n",
    "# beautify the x-labels\n",
    "plt.gcf().autofmt_xdate()\n",
    "\n",
    "plt.show()"
   ]
  },
  {
   "cell_type": "markdown",
   "metadata": {
    "tags": []
   },
   "source": [
    "# Examples from toybmi"
   ]
  },
  {
   "cell_type": "code",
   "execution_count": 5,
   "metadata": {
    "tags": []
   },
   "outputs": [
    {
     "name": "stdout",
     "output_type": "stream",
     "text": [
      "Input variables:\n",
      "['water_input', 'relative_humidity']\n",
      "Output variables:\n",
      "['water_output']\n"
     ]
    }
   ],
   "source": [
    "toy = toybmi()\n",
    "print(\"Input variables:\")\n",
    "print(toy.get_input_var_names())\n",
    "print(\"Output variables:\")\n",
    "print(toy.get_output_var_names())"
   ]
  },
  {
   "cell_type": "markdown",
   "metadata": {},
   "source": [
    "Initialize the model:"
   ]
  },
  {
   "cell_type": "code",
   "execution_count": 6,
   "metadata": {
    "tags": []
   },
   "outputs": [],
   "source": [
    "toy.initialize('config.yml')"
   ]
  },
  {
   "cell_type": "markdown",
   "metadata": {},
   "source": [
    "Set some input values:"
   ]
  },
  {
   "cell_type": "code",
   "execution_count": 7,
   "metadata": {
    "tags": []
   },
   "outputs": [],
   "source": [
    "w_input = np.array([42.0])\n",
    "toy.set_value('water_input', w_input)\n",
    "rh_input = np.array([0.5])\n",
    "toy.set_value('relative_humidity', rh_input)"
   ]
  },
  {
   "cell_type": "markdown",
   "metadata": {},
   "source": [
    "Increment the model by an hour:"
   ]
  },
  {
   "cell_type": "code",
   "execution_count": 8,
   "metadata": {
    "tags": []
   },
   "outputs": [],
   "source": [
    "toy.update_until(3600)"
   ]
  },
  {
   "cell_type": "code",
   "execution_count": null,
   "metadata": {},
   "outputs": [],
   "source": []
  },
  {
   "cell_type": "markdown",
   "metadata": {},
   "source": [
    "Read the output:"
   ]
  },
  {
   "cell_type": "code",
   "execution_count": 16,
   "metadata": {
    "tags": []
   },
   "outputs": [
    {
     "data": {
      "text/plain": [
       "7.812212876601165e-10"
      ]
     },
     "execution_count": 16,
     "metadata": {},
     "output_type": "execute_result"
    }
   ],
   "source": [
    "output = np.zeros(1)\n",
    "cfe.get_value('land_surface_water__runoff_depth')"
   ]
  },
  {
   "cell_type": "markdown",
   "metadata": {},
   "source": [
    "Run `toybmi` in the Model Engine:"
   ]
  },
  {
   "cell_type": "code",
   "execution_count": 13,
   "metadata": {
    "tags": []
   },
   "outputs": [
    {
     "name": "stdout",
     "output_type": "stream",
     "text": [
      "NGen Framework 0.1.0\n",
      "Building Nexus collection\n",
      "Building Catchment collection\n",
      "Not Using Routing\n",
      "Catchment topology is dendritic.\n",
      "Running Models\n",
      "Running timestep 0\n",
      "Definition of \"au\" in \"/usr/share/xml/udunits/udunits2-accepted.xml\", line 123, overrides prefixed-unit \"1.6605402e-45 kilogram\"\n",
      "Definition of \"kt\" in \"/usr/share/xml/udunits/udunits2-common.xml\", line 105, overrides prefixed-unit \"1000000 kilogram\"\n",
      "Definition of \"microns\" in \"/usr/share/xml/udunits/udunits2-common.xml\", line 411, overrides prefixed-unit \"1e-15 second\"\n",
      "Definition of \"ft\" in \"/usr/share/xml/udunits/udunits2-common.xml\", line 522, overrides prefixed-unit \"1e-12 kilogram\"\n",
      "Definition of \"yd\" in \"/usr/share/xml/udunits/udunits2-common.xml\", line 531, overrides prefixed-unit \"8.64e-20 second\"\n",
      "Definition of \"pt\" in \"/usr/share/xml/udunits/udunits2-common.xml\", line 785, overrides prefixed-unit \"1e-09 kilogram\"\n",
      "Definition of \"at\" in \"/usr/share/xml/udunits/udunits2-common.xml\", line 1250, overrides prefixed-unit \"1e-15 kilogram\"\n",
      "Definition of \"ph\" in \"/usr/share/xml/udunits/udunits2-common.xml\", line 1880, overrides prefixed-unit \"3.6e-09 second\"\n",
      "Definition of \"nt\" in \"/usr/share/xml/udunits/udunits2-common.xml\", line 1889, overrides prefixed-unit \"1e-06 kilogram\"\n",
      "Running timestep 100\n",
      "Running timestep 200\n",
      "Running timestep 300\n",
      "Running timestep 400\n",
      "Running timestep 500\n",
      "Running timestep 600\n",
      "Running timestep 700\n",
      "Finished 720 timesteps.\n"
     ]
    }
   ],
   "source": [
    "!ngen /home/jovyan/data/shared-data/ngen-example-data/catchment_data.geojson \"cat-67\" /home/jovyan/data/shared-data/ngen-example-data/nexus_data.geojson \"nex-68\" toybmi_realization.json"
   ]
  },
  {
   "cell_type": "markdown",
   "metadata": {},
   "source": [
    "View the results:"
   ]
  },
  {
   "cell_type": "code",
   "execution_count": 14,
   "metadata": {
    "tags": []
   },
   "outputs": [
    {
     "name": "stdout",
     "output_type": "stream",
     "text": [
      "     Time Step                Time  water_output\n",
      "0            0 2015-12-01 00:00:00  0.000000e+00\n",
      "1            1 2015-12-01 01:00:00  0.000000e+00\n",
      "2            2 2015-12-01 02:00:00  0.000000e+00\n",
      "3            3 2015-12-01 03:00:00  0.000000e+00\n",
      "4            4 2015-12-01 04:00:00  0.000000e+00\n",
      "..         ...                 ...           ...\n",
      "715        715 2015-12-30 19:00:00 -3.000000e-07\n",
      "716        716 2015-12-30 20:00:00 -2.700000e-07\n",
      "717        717 2015-12-30 21:00:00 -2.030000e-07\n",
      "718        718 2015-12-30 22:00:00 -6.170000e-07\n",
      "719        719 2015-12-30 23:00:00 -2.030000e-07\n",
      "\n",
      "[720 rows x 3 columns]\n"
     ]
    }
   ],
   "source": [
    "import pandas as pd\n",
    "from datetime import datetime\n",
    "import csv\n",
    "\n",
    "df = pd.read_csv('./cat-67.csv')\n",
    "df['Time'] = df['Time'].map(lambda x: datetime.strptime(str(x), '%Y-%m-%d %H:%M:%S'))\n",
    "print (df)"
   ]
  },
  {
   "cell_type": "code",
   "execution_count": 15,
   "metadata": {
    "tags": []
   },
   "outputs": [
    {
     "data": {
      "image/png": "[encoded data removed]",
      "text/plain": [
       "<Figure size 640x480 with 1 Axes>"
      ]
     },
     "metadata": {},
     "output_type": "display_data"
    }
   ],
   "source": [
    "import matplotlib.pyplot as plt\n",
    "import matplotlib.dates as mdates\n",
    "\n",
    "# plot\n",
    "plt.plot(df[\"Time\"],df[\"water_output\"])\n",
    "# beautify the x-labels\n",
    "plt.gcf().autofmt_xdate()\n",
    "\n",
    "plt.show()"
   ]
  },
  {
   "cell_type": "code",
   "execution_count": null,
   "metadata": {},
   "outputs": [],
   "source": []
  },
  {
   "cell_type": "code",
   "execution_count": null,
   "metadata": {},
   "outputs": [],
   "source": []
  }
 ],
 "metadata": {
  "interpreter": {
   "hash": "48087b1dd6fd9cac5443e644a0d4129b651e7391329039552a2a569bcdc99a30"
  },
  "kernelspec": {
   "display_name": "Python 3 (ipykernel)",
   "language": "python",
   "name": "python3"
  },
  "language_info": {
   "codemirror_mode": {
    "name": "ipython",
    "version": 3
   },
   "file_extension": ".py",
   "mimetype": "text/x-python",
   "name": "python",
   "nbconvert_exporter": "python",
   "pygments_lexer": "ipython3",
   "version": "3.9.16"
  }
 },
 "nbformat": 4,
 "nbformat_minor": 4
}
